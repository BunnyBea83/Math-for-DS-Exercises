{
 "cells": [
  {
   "cell_type": "markdown",
   "id": "037311c8",
   "metadata": {},
   "source": [
    "# RMSE and MAE"
   ]
  },
  {
   "cell_type": "markdown",
   "id": "1429fec1",
   "metadata": {},
   "source": [
    "### One method to evaluate a model with a numerical target is to calculate the root mean square error (RMSE) \n",
    "### between the predicted values and actual values. If y1, y2, . . . , yn are actual values and yb2, yb2, . . . , yb2 \n",
    "### are the corresponding predicted values, then the model RMSE is calculated using the following formula:\n",
    "\n",
    "### RMSE = 1 [(yb1 − y1)2 + (yb2 − y2)2 + . . . + (ybn − yn)2]. "
   ]
  },
  {
   "cell_type": "markdown",
   "id": "59a05fcc",
   "metadata": {},
   "source": [
    "### a) Create a function that takes in two numerical arrays of the same length (think about one array as actual values and the other as predicted values) and calculates the RMSE between them."
   ]
  },
  {
   "cell_type": "code",
   "execution_count": 1,
   "id": "43d6d351",
   "metadata": {},
   "outputs": [],
   "source": [
    "#Import Libraries\n",
    "import numpy as np\n",
    "import pandas as pd\n",
    "import matplotlib.pyplot as plt\n",
    "import math"
   ]
  },
  {
   "cell_type": "code",
   "execution_count": 5,
   "id": "35c82e07",
   "metadata": {},
   "outputs": [
    {
     "name": "stdout",
     "output_type": "stream",
     "text": [
      "Root Mean Square Error\n",
      "0.4449719092257396\n"
     ]
    }
   ],
   "source": [
    "#Build function\n",
    "#Define the values\n",
    "y_actual = [2,8,5,17,20]\n",
    "y_predicted = [2.6,8.7,4.9,17.2,20.3]\n",
    "\n",
    "#subtract the arrays, square them, find the mean of the total values, then sqare root it\n",
    "RMSE= math.sqrt(np.square(np.subtract(y_actual,y_predicted)).mean())\n",
    "\n",
    "print(\"Root Mean Square Error\")\n",
    "print(RMSE)"
   ]
  },
  {
   "cell_type": "markdown",
   "id": "1ea86962",
   "metadata": {},
   "source": [
    "### (b) Apply your RMSE function to the columns “sale price” and “sale price pred” in the file housing data.csv. file and report your result. The sale price has been predicted from the square footage of the house."
   ]
  },
  {
   "cell_type": "code",
   "execution_count": 2,
   "id": "0f811f24",
   "metadata": {},
   "outputs": [
    {
     "data": {
      "text/html": [
       "<div>\n",
       "<style scoped>\n",
       "    .dataframe tbody tr th:only-of-type {\n",
       "        vertical-align: middle;\n",
       "    }\n",
       "\n",
       "    .dataframe tbody tr th {\n",
       "        vertical-align: top;\n",
       "    }\n",
       "\n",
       "    .dataframe thead th {\n",
       "        text-align: right;\n",
       "    }\n",
       "</style>\n",
       "<table border=\"1\" class=\"dataframe\">\n",
       "  <thead>\n",
       "    <tr style=\"text-align: right;\">\n",
       "      <th></th>\n",
       "      <th>sqft</th>\n",
       "      <th>sale_price</th>\n",
       "      <th>sale_price_pred</th>\n",
       "    </tr>\n",
       "  </thead>\n",
       "  <tbody>\n",
       "    <tr>\n",
       "      <th>0</th>\n",
       "      <td>2416</td>\n",
       "      <td>208500</td>\n",
       "      <td>215635.4687</td>\n",
       "    </tr>\n",
       "    <tr>\n",
       "      <th>1</th>\n",
       "      <td>2240</td>\n",
       "      <td>181500</td>\n",
       "      <td>202432.1633</td>\n",
       "    </tr>\n",
       "    <tr>\n",
       "      <th>2</th>\n",
       "      <td>2272</td>\n",
       "      <td>223500</td>\n",
       "      <td>204832.7643</td>\n",
       "    </tr>\n",
       "    <tr>\n",
       "      <th>3</th>\n",
       "      <td>1933</td>\n",
       "      <td>140000</td>\n",
       "      <td>179401.3976</td>\n",
       "    </tr>\n",
       "    <tr>\n",
       "      <th>4</th>\n",
       "      <td>2853</td>\n",
       "      <td>250000</td>\n",
       "      <td>248418.6758</td>\n",
       "    </tr>\n",
       "  </tbody>\n",
       "</table>\n",
       "</div>"
      ],
      "text/plain": [
       "   sqft  sale_price  sale_price_pred\n",
       "0  2416      208500      215635.4687\n",
       "1  2240      181500      202432.1633\n",
       "2  2272      223500      204832.7643\n",
       "3  1933      140000      179401.3976\n",
       "4  2853      250000      248418.6758"
      ]
     },
     "execution_count": 2,
     "metadata": {},
     "output_type": "execute_result"
    }
   ],
   "source": [
    "#Import Datasets\n",
    "df_houses = pd.read_csv('housing_data.csv')\n",
    "#display the first few rows to ensure its properly loaded\n",
    "df_houses.head()"
   ]
  },
  {
   "cell_type": "code",
   "execution_count": 8,
   "id": "2f8f77be",
   "metadata": {},
   "outputs": [
    {
     "name": "stdout",
     "output_type": "stream",
     "text": [
      "The RMSE of Housing Data\n",
      "55064.0688338987\n"
     ]
    }
   ],
   "source": [
    "#Define actual and predicted values\n",
    "act_price= df_houses['sale_price']\n",
    "pred_price = df_houses['sale_price_pred']\n",
    "\n",
    "#Insert function\n",
    "RMSE2= math.sqrt(np.square(np.subtract(act_price,pred_price)).mean())\n",
    "\n",
    "print('The RMSE of Housing Data')\n",
    "print(RMSE2)"
   ]
  },
  {
   "cell_type": "markdown",
   "id": "907ff047",
   "metadata": {},
   "source": [
    "## 2) An alternate method to evaluate a model with a numerical target is to calculate the mean absolute error (MAE) between the predicted values and actual values. If y1, y2, . . . , yn are actual values and yb2, yb2, . . . , yb2 are the corresponding predicted values, then the model MAE is calculated using the following formula:"
   ]
  },
  {
   "cell_type": "markdown",
   "id": "cc19843b",
   "metadata": {},
   "source": [
    "### a) Repeat problem  1 above with MAE"
   ]
  },
  {
   "cell_type": "code",
   "execution_count": 11,
   "id": "11996402",
   "metadata": {},
   "outputs": [
    {
     "name": "stdout",
     "output_type": "stream",
     "text": [
      "Mean Absolute Error\n",
      "0.3799999999999998\n"
     ]
    }
   ],
   "source": [
    "#Define Values\n",
    "y_actual = [2,8,5,17,20]\n",
    "y_predicted = [2.6,8.7,4.9,17.2,20.3]\n",
    "risid= np.subtract(y_actual,y_predicted)\n",
    "\n",
    "#define function sum of absolue value of residuals divided by sample size\n",
    "MAE= np.sum(np.absolute (risid))/len(risid)\n",
    "\n",
    "#Display Answer\n",
    "print('Mean Absolute Error')\n",
    "print(MAE)"
   ]
  },
  {
   "cell_type": "markdown",
   "id": "f610c191",
   "metadata": {},
   "source": [
    "### b) Repeat problem 2 above with MAE."
   ]
  },
  {
   "cell_type": "code",
   "execution_count": 13,
   "id": "f081cdb6",
   "metadata": {},
   "outputs": [
    {
     "name": "stdout",
     "output_type": "stream",
     "text": [
      "MAE of Housing Data is 37438.68916270548\n"
     ]
    }
   ],
   "source": [
    "#Define Values\n",
    "act_price= df_houses['sale_price']\n",
    "pred_price = df_houses['sale_price_pred']\n",
    "\n",
    "#Define Function: sum of absolue value of residuals divided by sample size\n",
    "MAE2= np.sum(np.absolute(np.subtract(act_price,pred_price)))/len(act_price)\n",
    "\n",
    "#Display Answer\n",
    "print('MAE of Housing Data is', MAE2)\n"
   ]
  },
  {
   "cell_type": "markdown",
   "id": "c169d668",
   "metadata": {},
   "source": [
    "# A common metric to evaluate models with a binary target, e.g., true or false, is accuracy. The accuracy is the percentage of values the model correctly predicts"
   ]
  },
  {
   "cell_type": "markdown",
   "id": "992a0b0b",
   "metadata": {},
   "source": [
    "## a) Build a function that takes in two binary arrays of the same length, where one is actual values and the other predicted values, that calculates the prediction accuracy"
   ]
  },
  {
   "cell_type": "code",
   "execution_count": 30,
   "id": "735a189e",
   "metadata": {},
   "outputs": [
    {
     "name": "stdout",
     "output_type": "stream",
     "text": [
      "43%\n"
     ]
    }
   ],
   "source": [
    "#Define Values\n",
    "True_V = np.array([0,1,1,0,0,1,0,0,1])\n",
    "Pred_V = np.array([1,0,1,1,1,1,0,1,1])\n",
    "\n",
    "#Compare if the values are the same and tally them. Then find the percentage of correct values/accuracy\n",
    "TP = ((Pred_V == 1) & (True_V == 1)).sum()\n",
    "FP = ((Pred_V == 1) & (True_V == 0)).sum()\n",
    "precision = TP/ (TP+FP)\n",
    "\n",
    "# Display the anwser in a percentage\n",
    "\n",
    "print(\"{:.0%}\".format(precision))"
   ]
  },
  {
   "cell_type": "markdown",
   "id": "31194931",
   "metadata": {},
   "source": [
    "## b) Apply your accuracy function to the columns “actual” and “predicted” in the mushroom data.csv file and report your result. The columns in this data set indicate the mushroom is poisonous with a “p” and if it is edible with an “e”."
   ]
  },
  {
   "cell_type": "code",
   "execution_count": 39,
   "id": "8dcb5e99",
   "metadata": {},
   "outputs": [
    {
     "name": "stdout",
     "output_type": "stream",
     "text": [
      "The predicted mushroom data is 79% accurate\n"
     ]
    }
   ],
   "source": [
    "#Import Mushroom data set\n",
    "df_mush= pd.read_csv('mushroom_data.csv')\n",
    "\n",
    "#Define Values\n",
    "True_M = df_mush['actual']\n",
    "Pred_M = df_mush['predicted']\n",
    "\n",
    "#Compare if the values are the same and tally them. Then find the percentage of correct values/accuracy\n",
    "TP = ((Pred_M == 'p') & (True_M == 'p')).sum()\n",
    "FP = ((Pred_M == 'p') & (True_M == 'e')).sum()\n",
    "accuracy = TP/ (TP+FP)\n",
    "\n",
    "# Display the anwser in a percentage\n",
    "\n",
    "print('The predicted mushroom data is',\"{:.0%}\".format(accuracy),\"accurate\")"
   ]
  },
  {
   "cell_type": "markdown",
   "id": "fe95b94b",
   "metadata": {},
   "source": [
    "# Assume that the error in a model is measured by the function                             f(p) = 0.005p6 − 0.27p5 + 5.998p4 − 69.919p3 + 449.17p2 − 1499.7p + 2028,  where p is a parameter of the model."
   ]
  },
  {
   "cell_type": "markdown",
   "id": "5cfe40a3",
   "metadata": {},
   "source": [
    "## Use the Python package matplotlib to plot this function."
   ]
  },
  {
   "cell_type": "code",
   "execution_count": 49,
   "id": "bffe0352",
   "metadata": {},
   "outputs": [
    {
     "data": {
      "image/png": "[encoded data removed]",
      "text/plain": [
       "<Figure size 640x480 with 1 Axes>"
      ]
     },
     "metadata": {},
     "output_type": "display_data"
    }
   ],
   "source": [
    "#Define the Function F(p)\n",
    "def f(p):\n",
    "    return 0.005*p**6 - 0.27*p**5 + 5.998*p**4 - 69.919*p**3 + 449.17*p**2 - 1499.7*p + 2028\n",
    "\n",
    "#generate values to plot\n",
    "p_value = np.linspace(-10,25)\n",
    "\n",
    "#calculate corresponding values of f(p)\n",
    "f_value = f(p_value)\n",
    "\n",
    "#plot f(p)\n",
    "plt.plot(p_value,f_value, color = 'purple', label = 'Parameter Model')\n",
    "\n",
    "plt.xlabel('x-values')\n",
    "plt.ylabel('y-values')\n",
    "plt.title('Error of a model')\n",
    "plt.show()\n"
   ]
  },
  {
   "cell_type": "markdown",
   "id": "51a0ae96",
   "metadata": {},
   "source": [
    "## b) Use your graph to estimate the value of p that minimizes the error. Report your result."
   ]
  },
  {
   "cell_type": "code",
   "execution_count": 80,
   "id": "c4765029",
   "metadata": {},
   "outputs": [
    {
     "name": "stdout",
     "output_type": "stream",
     "text": [
      "The estimated value of p that minimizes the error is 5.0\n"
     ]
    }
   ],
   "source": [
    "# To find the point of smallest error we need to find the smallest y value. Use coding to find the smallest y\n",
    "mini_y = np.argmin(f_value)\n",
    "\n",
    "#insert the minimum y value to find the corresponding p value\n",
    "p_min = p_value[mini_y]\n",
    "\n",
    "#display the result\n",
    "print('The estimated value of p that minimizes the error is', p_min)\n"
   ]
  },
  {
   "cell_type": "markdown",
   "id": "208d2e00",
   "metadata": {},
   "source": [
    "## c) Use your graph to estimate the minimum error. Report your result."
   ]
  },
  {
   "cell_type": "code",
   "execution_count": 79,
   "id": "dfb18501",
   "metadata": {},
   "outputs": [
    {
     "name": "stdout",
     "output_type": "stream",
     "text": [
      "The minimum error is 2.0\n"
     ]
    }
   ],
   "source": [
    "#find the minimum value of f(p)\n",
    "min_error = np.min(f_value)\n",
    "\n",
    "print('The minimum error is', min_error)"
   ]
  },
  {
   "cell_type": "code",
   "execution_count": null,
   "id": "09eb1877",
   "metadata": {},
   "outputs": [],
   "source": []
  }
 ],
 "metadata": {
  "kernelspec": {
   "display_name": "Python 3 (ipykernel)",
   "language": "python",
   "name": "python3"
  },
  "language_info": {
   "codemirror_mode": {
    "name": "ipython",
    "version": 3
   },
   "file_extension": ".py",
   "mimetype": "text/x-python",
   "name": "python",
   "nbconvert_exporter": "python",
   "pygments_lexer": "ipython3",
   "version": "3.11.4"
  }
 },
 "nbformat": 4,
 "nbformat_minor": 5
}
